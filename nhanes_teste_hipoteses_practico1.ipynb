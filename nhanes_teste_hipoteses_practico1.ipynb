{
  "cells": [
    {
      "cell_type": "markdown",
      "metadata": {
        "id": "view-in-github",
        "colab_type": "text"
      },
      "source": [
        "<a href=\"https://colab.research.google.com/github/manomec/portifolio/blob/main/nhanes_teste_hipoteses_practico1.ipynb\" target=\"_parent\"><img src=\"https://colab.research.google.com/assets/colab-badge.svg\" alt=\"Open In Colab\"/></a>"
      ]
    },
    {
      "cell_type": "markdown",
      "metadata": {
        "id": "Xoo9GQ0qS5PX"
      },
      "source": [
        "# Notebook de prática para testes de hipótese usando dados do NHANES\n",
        "\n",
        "Este notebook lhe dará a oportunidade de realizar alguns testes de hipótese com os dados do NHANES, semelhantes ao que foi feito no notebook do estudo de caso da semana 3.\n",
        "\n",
        "Observe que a maior parte do código que você precisará escrever abaixo é muito semelhante ao código que aparece no notebook do estudo de caso anterior. Poderá ser necessário editar esse código em pequenos detalhes para adaptá-lo às instruções da lista de exercícios.\n",
        "\n",
        "Para começar, usaremos as mesmas importações de módulos e leremos os dados da mesma forma como fizemos no estudo de caso:"
      ]
    },
    {
      "cell_type": "code",
      "execution_count": 32,
      "metadata": {
        "id": "wtXOsjW8S5PZ"
      },
      "outputs": [],
      "source": [
        "import matplotlib.pyplot as plt\n",
        "import seaborn as sns\n",
        "import pandas as pd\n",
        "import statsmodels.api as sm\n",
        "import numpy as np\n",
        "import scipy.stats.distributions as dist\n",
        "from statsmodels.stats.proportion import proportion_confint\n",
        "%matplotlib inline"
      ]
    },
    {
      "cell_type": "markdown",
      "metadata": {
        "id": "2Vi6HnLnS5Pa"
      },
      "source": [
        "### Carregando os dados NHANES"
      ]
    },
    {
      "cell_type": "code",
      "execution_count": 33,
      "metadata": {
        "colab": {
          "base_uri": "https://localhost:8080/",
          "height": 255
        },
        "id": "3IHz2kI9S5Pb",
        "outputId": "7a7101c3-dcca-4d49-9a38-1bcde7f292be"
      },
      "outputs": [
        {
          "output_type": "execute_result",
          "data": {
            "text/plain": [
              "    SEQN  ALQ101  ALQ110  ALQ130  SMQ020  RIAGENDR  RIDAGEYR  RIDRETH1  \\\n",
              "0  83732     1.0     NaN     1.0       1         1        62         3   \n",
              "1  83733     1.0     NaN     6.0       1         1        53         3   \n",
              "2  83734     1.0     NaN     NaN       1         1        78         3   \n",
              "3  83735     2.0     1.0     1.0       2         2        56         3   \n",
              "4  83736     2.0     1.0     1.0       2         2        42         4   \n",
              "\n",
              "   DMDCITZN  DMDEDUC2  ...  BPXSY2  BPXDI2  BMXWT  BMXHT  BMXBMI  BMXLEG  \\\n",
              "0       1.0       5.0  ...   124.0    64.0   94.8  184.5    27.8    43.3   \n",
              "1       2.0       3.0  ...   140.0    88.0   90.4  171.4    30.8    38.0   \n",
              "2       1.0       3.0  ...   132.0    44.0   83.4  170.1    28.8    35.6   \n",
              "3       1.0       5.0  ...   134.0    68.0  109.8  160.9    42.4    38.5   \n",
              "4       1.0       4.0  ...   114.0    54.0   55.2  164.9    20.3    37.4   \n",
              "\n",
              "   BMXARML  BMXARMC  BMXWAIST  HIQ210  \n",
              "0     43.6     35.9     101.1     2.0  \n",
              "1     40.0     33.2     107.9     NaN  \n",
              "2     37.0     31.0     116.5     2.0  \n",
              "3     37.7     38.3     110.1     2.0  \n",
              "4     36.0     27.2      80.4     2.0  \n",
              "\n",
              "[5 rows x 28 columns]"
            ],
            "text/html": [
              "\n",
              "  <div id=\"df-6c4f3689-0781-49c8-9796-7348b61497fb\" class=\"colab-df-container\">\n",
              "    <div>\n",
              "<style scoped>\n",
              "    .dataframe tbody tr th:only-of-type {\n",
              "        vertical-align: middle;\n",
              "    }\n",
              "\n",
              "    .dataframe tbody tr th {\n",
              "        vertical-align: top;\n",
              "    }\n",
              "\n",
              "    .dataframe thead th {\n",
              "        text-align: right;\n",
              "    }\n",
              "</style>\n",
              "<table border=\"1\" class=\"dataframe\">\n",
              "  <thead>\n",
              "    <tr style=\"text-align: right;\">\n",
              "      <th></th>\n",
              "      <th>SEQN</th>\n",
              "      <th>ALQ101</th>\n",
              "      <th>ALQ110</th>\n",
              "      <th>ALQ130</th>\n",
              "      <th>SMQ020</th>\n",
              "      <th>RIAGENDR</th>\n",
              "      <th>RIDAGEYR</th>\n",
              "      <th>RIDRETH1</th>\n",
              "      <th>DMDCITZN</th>\n",
              "      <th>DMDEDUC2</th>\n",
              "      <th>...</th>\n",
              "      <th>BPXSY2</th>\n",
              "      <th>BPXDI2</th>\n",
              "      <th>BMXWT</th>\n",
              "      <th>BMXHT</th>\n",
              "      <th>BMXBMI</th>\n",
              "      <th>BMXLEG</th>\n",
              "      <th>BMXARML</th>\n",
              "      <th>BMXARMC</th>\n",
              "      <th>BMXWAIST</th>\n",
              "      <th>HIQ210</th>\n",
              "    </tr>\n",
              "  </thead>\n",
              "  <tbody>\n",
              "    <tr>\n",
              "      <th>0</th>\n",
              "      <td>83732</td>\n",
              "      <td>1.0</td>\n",
              "      <td>NaN</td>\n",
              "      <td>1.0</td>\n",
              "      <td>1</td>\n",
              "      <td>1</td>\n",
              "      <td>62</td>\n",
              "      <td>3</td>\n",
              "      <td>1.0</td>\n",
              "      <td>5.0</td>\n",
              "      <td>...</td>\n",
              "      <td>124.0</td>\n",
              "      <td>64.0</td>\n",
              "      <td>94.8</td>\n",
              "      <td>184.5</td>\n",
              "      <td>27.8</td>\n",
              "      <td>43.3</td>\n",
              "      <td>43.6</td>\n",
              "      <td>35.9</td>\n",
              "      <td>101.1</td>\n",
              "      <td>2.0</td>\n",
              "    </tr>\n",
              "    <tr>\n",
              "      <th>1</th>\n",
              "      <td>83733</td>\n",
              "      <td>1.0</td>\n",
              "      <td>NaN</td>\n",
              "      <td>6.0</td>\n",
              "      <td>1</td>\n",
              "      <td>1</td>\n",
              "      <td>53</td>\n",
              "      <td>3</td>\n",
              "      <td>2.0</td>\n",
              "      <td>3.0</td>\n",
              "      <td>...</td>\n",
              "      <td>140.0</td>\n",
              "      <td>88.0</td>\n",
              "      <td>90.4</td>\n",
              "      <td>171.4</td>\n",
              "      <td>30.8</td>\n",
              "      <td>38.0</td>\n",
              "      <td>40.0</td>\n",
              "      <td>33.2</td>\n",
              "      <td>107.9</td>\n",
              "      <td>NaN</td>\n",
              "    </tr>\n",
              "    <tr>\n",
              "      <th>2</th>\n",
              "      <td>83734</td>\n",
              "      <td>1.0</td>\n",
              "      <td>NaN</td>\n",
              "      <td>NaN</td>\n",
              "      <td>1</td>\n",
              "      <td>1</td>\n",
              "      <td>78</td>\n",
              "      <td>3</td>\n",
              "      <td>1.0</td>\n",
              "      <td>3.0</td>\n",
              "      <td>...</td>\n",
              "      <td>132.0</td>\n",
              "      <td>44.0</td>\n",
              "      <td>83.4</td>\n",
              "      <td>170.1</td>\n",
              "      <td>28.8</td>\n",
              "      <td>35.6</td>\n",
              "      <td>37.0</td>\n",
              "      <td>31.0</td>\n",
              "      <td>116.5</td>\n",
              "      <td>2.0</td>\n",
              "    </tr>\n",
              "    <tr>\n",
              "      <th>3</th>\n",
              "      <td>83735</td>\n",
              "      <td>2.0</td>\n",
              "      <td>1.0</td>\n",
              "      <td>1.0</td>\n",
              "      <td>2</td>\n",
              "      <td>2</td>\n",
              "      <td>56</td>\n",
              "      <td>3</td>\n",
              "      <td>1.0</td>\n",
              "      <td>5.0</td>\n",
              "      <td>...</td>\n",
              "      <td>134.0</td>\n",
              "      <td>68.0</td>\n",
              "      <td>109.8</td>\n",
              "      <td>160.9</td>\n",
              "      <td>42.4</td>\n",
              "      <td>38.5</td>\n",
              "      <td>37.7</td>\n",
              "      <td>38.3</td>\n",
              "      <td>110.1</td>\n",
              "      <td>2.0</td>\n",
              "    </tr>\n",
              "    <tr>\n",
              "      <th>4</th>\n",
              "      <td>83736</td>\n",
              "      <td>2.0</td>\n",
              "      <td>1.0</td>\n",
              "      <td>1.0</td>\n",
              "      <td>2</td>\n",
              "      <td>2</td>\n",
              "      <td>42</td>\n",
              "      <td>4</td>\n",
              "      <td>1.0</td>\n",
              "      <td>4.0</td>\n",
              "      <td>...</td>\n",
              "      <td>114.0</td>\n",
              "      <td>54.0</td>\n",
              "      <td>55.2</td>\n",
              "      <td>164.9</td>\n",
              "      <td>20.3</td>\n",
              "      <td>37.4</td>\n",
              "      <td>36.0</td>\n",
              "      <td>27.2</td>\n",
              "      <td>80.4</td>\n",
              "      <td>2.0</td>\n",
              "    </tr>\n",
              "  </tbody>\n",
              "</table>\n",
              "<p>5 rows × 28 columns</p>\n",
              "</div>\n",
              "    <div class=\"colab-df-buttons\">\n",
              "\n",
              "  <div class=\"colab-df-container\">\n",
              "    <button class=\"colab-df-convert\" onclick=\"convertToInteractive('df-6c4f3689-0781-49c8-9796-7348b61497fb')\"\n",
              "            title=\"Convert this dataframe to an interactive table.\"\n",
              "            style=\"display:none;\">\n",
              "\n",
              "  <svg xmlns=\"http://www.w3.org/2000/svg\" height=\"24px\" viewBox=\"0 -960 960 960\">\n",
              "    <path d=\"M120-120v-720h720v720H120Zm60-500h600v-160H180v160Zm220 220h160v-160H400v160Zm0 220h160v-160H400v160ZM180-400h160v-160H180v160Zm440 0h160v-160H620v160ZM180-180h160v-160H180v160Zm440 0h160v-160H620v160Z\"/>\n",
              "  </svg>\n",
              "    </button>\n",
              "\n",
              "  <style>\n",
              "    .colab-df-container {\n",
              "      display:flex;\n",
              "      gap: 12px;\n",
              "    }\n",
              "\n",
              "    .colab-df-convert {\n",
              "      background-color: #E8F0FE;\n",
              "      border: none;\n",
              "      border-radius: 50%;\n",
              "      cursor: pointer;\n",
              "      display: none;\n",
              "      fill: #1967D2;\n",
              "      height: 32px;\n",
              "      padding: 0 0 0 0;\n",
              "      width: 32px;\n",
              "    }\n",
              "\n",
              "    .colab-df-convert:hover {\n",
              "      background-color: #E2EBFA;\n",
              "      box-shadow: 0px 1px 2px rgba(60, 64, 67, 0.3), 0px 1px 3px 1px rgba(60, 64, 67, 0.15);\n",
              "      fill: #174EA6;\n",
              "    }\n",
              "\n",
              "    .colab-df-buttons div {\n",
              "      margin-bottom: 4px;\n",
              "    }\n",
              "\n",
              "    [theme=dark] .colab-df-convert {\n",
              "      background-color: #3B4455;\n",
              "      fill: #D2E3FC;\n",
              "    }\n",
              "\n",
              "    [theme=dark] .colab-df-convert:hover {\n",
              "      background-color: #434B5C;\n",
              "      box-shadow: 0px 1px 3px 1px rgba(0, 0, 0, 0.15);\n",
              "      filter: drop-shadow(0px 1px 2px rgba(0, 0, 0, 0.3));\n",
              "      fill: #FFFFFF;\n",
              "    }\n",
              "  </style>\n",
              "\n",
              "    <script>\n",
              "      const buttonEl =\n",
              "        document.querySelector('#df-6c4f3689-0781-49c8-9796-7348b61497fb button.colab-df-convert');\n",
              "      buttonEl.style.display =\n",
              "        google.colab.kernel.accessAllowed ? 'block' : 'none';\n",
              "\n",
              "      async function convertToInteractive(key) {\n",
              "        const element = document.querySelector('#df-6c4f3689-0781-49c8-9796-7348b61497fb');\n",
              "        const dataTable =\n",
              "          await google.colab.kernel.invokeFunction('convertToInteractive',\n",
              "                                                    [key], {});\n",
              "        if (!dataTable) return;\n",
              "\n",
              "        const docLinkHtml = 'Like what you see? Visit the ' +\n",
              "          '<a target=\"_blank\" href=https://colab.research.google.com/notebooks/data_table.ipynb>data table notebook</a>'\n",
              "          + ' to learn more about interactive tables.';\n",
              "        element.innerHTML = '';\n",
              "        dataTable['output_type'] = 'display_data';\n",
              "        await google.colab.output.renderOutput(dataTable, element);\n",
              "        const docLink = document.createElement('div');\n",
              "        docLink.innerHTML = docLinkHtml;\n",
              "        element.appendChild(docLink);\n",
              "      }\n",
              "    </script>\n",
              "  </div>\n",
              "\n",
              "\n",
              "    <div id=\"df-95648a76-6eea-4f9c-aff4-6d44fb6775f9\">\n",
              "      <button class=\"colab-df-quickchart\" onclick=\"quickchart('df-95648a76-6eea-4f9c-aff4-6d44fb6775f9')\"\n",
              "                title=\"Suggest charts\"\n",
              "                style=\"display:none;\">\n",
              "\n",
              "<svg xmlns=\"http://www.w3.org/2000/svg\" height=\"24px\"viewBox=\"0 0 24 24\"\n",
              "     width=\"24px\">\n",
              "    <g>\n",
              "        <path d=\"M19 3H5c-1.1 0-2 .9-2 2v14c0 1.1.9 2 2 2h14c1.1 0 2-.9 2-2V5c0-1.1-.9-2-2-2zM9 17H7v-7h2v7zm4 0h-2V7h2v10zm4 0h-2v-4h2v4z\"/>\n",
              "    </g>\n",
              "</svg>\n",
              "      </button>\n",
              "\n",
              "<style>\n",
              "  .colab-df-quickchart {\n",
              "      --bg-color: #E8F0FE;\n",
              "      --fill-color: #1967D2;\n",
              "      --hover-bg-color: #E2EBFA;\n",
              "      --hover-fill-color: #174EA6;\n",
              "      --disabled-fill-color: #AAA;\n",
              "      --disabled-bg-color: #DDD;\n",
              "  }\n",
              "\n",
              "  [theme=dark] .colab-df-quickchart {\n",
              "      --bg-color: #3B4455;\n",
              "      --fill-color: #D2E3FC;\n",
              "      --hover-bg-color: #434B5C;\n",
              "      --hover-fill-color: #FFFFFF;\n",
              "      --disabled-bg-color: #3B4455;\n",
              "      --disabled-fill-color: #666;\n",
              "  }\n",
              "\n",
              "  .colab-df-quickchart {\n",
              "    background-color: var(--bg-color);\n",
              "    border: none;\n",
              "    border-radius: 50%;\n",
              "    cursor: pointer;\n",
              "    display: none;\n",
              "    fill: var(--fill-color);\n",
              "    height: 32px;\n",
              "    padding: 0;\n",
              "    width: 32px;\n",
              "  }\n",
              "\n",
              "  .colab-df-quickchart:hover {\n",
              "    background-color: var(--hover-bg-color);\n",
              "    box-shadow: 0 1px 2px rgba(60, 64, 67, 0.3), 0 1px 3px 1px rgba(60, 64, 67, 0.15);\n",
              "    fill: var(--button-hover-fill-color);\n",
              "  }\n",
              "\n",
              "  .colab-df-quickchart-complete:disabled,\n",
              "  .colab-df-quickchart-complete:disabled:hover {\n",
              "    background-color: var(--disabled-bg-color);\n",
              "    fill: var(--disabled-fill-color);\n",
              "    box-shadow: none;\n",
              "  }\n",
              "\n",
              "  .colab-df-spinner {\n",
              "    border: 2px solid var(--fill-color);\n",
              "    border-color: transparent;\n",
              "    border-bottom-color: var(--fill-color);\n",
              "    animation:\n",
              "      spin 1s steps(1) infinite;\n",
              "  }\n",
              "\n",
              "  @keyframes spin {\n",
              "    0% {\n",
              "      border-color: transparent;\n",
              "      border-bottom-color: var(--fill-color);\n",
              "      border-left-color: var(--fill-color);\n",
              "    }\n",
              "    20% {\n",
              "      border-color: transparent;\n",
              "      border-left-color: var(--fill-color);\n",
              "      border-top-color: var(--fill-color);\n",
              "    }\n",
              "    30% {\n",
              "      border-color: transparent;\n",
              "      border-left-color: var(--fill-color);\n",
              "      border-top-color: var(--fill-color);\n",
              "      border-right-color: var(--fill-color);\n",
              "    }\n",
              "    40% {\n",
              "      border-color: transparent;\n",
              "      border-right-color: var(--fill-color);\n",
              "      border-top-color: var(--fill-color);\n",
              "    }\n",
              "    60% {\n",
              "      border-color: transparent;\n",
              "      border-right-color: var(--fill-color);\n",
              "    }\n",
              "    80% {\n",
              "      border-color: transparent;\n",
              "      border-right-color: var(--fill-color);\n",
              "      border-bottom-color: var(--fill-color);\n",
              "    }\n",
              "    90% {\n",
              "      border-color: transparent;\n",
              "      border-bottom-color: var(--fill-color);\n",
              "    }\n",
              "  }\n",
              "</style>\n",
              "\n",
              "      <script>\n",
              "        async function quickchart(key) {\n",
              "          const quickchartButtonEl =\n",
              "            document.querySelector('#' + key + ' button');\n",
              "          quickchartButtonEl.disabled = true;  // To prevent multiple clicks.\n",
              "          quickchartButtonEl.classList.add('colab-df-spinner');\n",
              "          try {\n",
              "            const charts = await google.colab.kernel.invokeFunction(\n",
              "                'suggestCharts', [key], {});\n",
              "          } catch (error) {\n",
              "            console.error('Error during call to suggestCharts:', error);\n",
              "          }\n",
              "          quickchartButtonEl.classList.remove('colab-df-spinner');\n",
              "          quickchartButtonEl.classList.add('colab-df-quickchart-complete');\n",
              "        }\n",
              "        (() => {\n",
              "          let quickchartButtonEl =\n",
              "            document.querySelector('#df-95648a76-6eea-4f9c-aff4-6d44fb6775f9 button');\n",
              "          quickchartButtonEl.style.display =\n",
              "            google.colab.kernel.accessAllowed ? 'block' : 'none';\n",
              "        })();\n",
              "      </script>\n",
              "    </div>\n",
              "\n",
              "    </div>\n",
              "  </div>\n"
            ],
            "application/vnd.google.colaboratory.intrinsic+json": {
              "type": "dataframe",
              "variable_name": "da"
            }
          },
          "metadata": {},
          "execution_count": 33
        }
      ],
      "source": [
        "da = pd.read_csv(\"nhanes_2015_2016.csv\")\n",
        "\n",
        "da.head()"
      ]
    },
    {
      "cell_type": "markdown",
      "metadata": {
        "id": "qK1ZgsQoS5Pb"
      },
      "source": [
        "## Questao 1\n",
        "\n",
        "Conduza um teste de hipóteses (com nível de significancia de 0.05) sob a hipótese nula que: a proporção de mulheres que fumam é igual a proporção de homens que fumam."
      ]
    },
    {
      "cell_type": "code",
      "execution_count": 34,
      "metadata": {
        "id": "oNFn6gh3S5Pc"
      },
      "outputs": [],
      "source": [
        "da_masculino_fumante=da[da['RIAGENDR']==1]['SMQ020']\n",
        "da_masculino_fumante=da_masculino_fumante[~da_masculino_fumante.isna()]\n",
        "da_masculino_fumante.reset_index(inplace=True, drop=True)\n",
        "\n",
        "da_feminino_fumante=da[da['RIAGENDR']==2]['SMQ020']\n",
        "da_feminino_fumante=da_feminino_fumante[~da_feminino_fumante.isna()]\n",
        "da_feminino_fumante.reset_index(inplace=True, drop=True)"
      ]
    },
    {
      "cell_type": "code",
      "execution_count": 35,
      "metadata": {
        "colab": {
          "base_uri": "https://localhost:8080/"
        },
        "id": "yUFDd7IyS5Pc",
        "outputId": "2a450d8b-1075-4942-8047-01f2d1d81d9c"
      },
      "outputs": [
        {
          "output_type": "stream",
          "name": "stdout",
          "text": [
            "1413 , 1346\n"
          ]
        }
      ],
      "source": [
        "print(sum(da_masculino_fumante==1), \",\", sum(da_masculino_fumante!=1))"
      ]
    },
    {
      "cell_type": "code",
      "execution_count": 36,
      "metadata": {
        "colab": {
          "base_uri": "https://localhost:8080/"
        },
        "id": "LTRG_GJ5S5Pc",
        "outputId": "7a40d4cc-78cb-43c6-aa0c-ec60c895b118"
      },
      "outputs": [
        {
          "output_type": "stream",
          "name": "stdout",
          "text": [
            "906 , 2070\n"
          ]
        }
      ],
      "source": [
        "print(sum(da_feminino_fumante==1), \",\", sum(da_feminino_fumante!=1))"
      ]
    },
    {
      "cell_type": "code",
      "execution_count": 37,
      "metadata": {
        "colab": {
          "base_uri": "https://localhost:8080/"
        },
        "id": "HaxKeGhbS5Pd",
        "outputId": "8b04eb9f-f5af-4997-c345-6ea45de688ea"
      },
      "outputs": [
        {
          "output_type": "execute_result",
          "data": {
            "text/plain": [
              "0.5121420804639362"
            ]
          },
          "metadata": {},
          "execution_count": 37
        }
      ],
      "source": [
        "sum(da_masculino_fumante==1)/len(da_masculino_fumante)"
      ]
    },
    {
      "cell_type": "code",
      "execution_count": 38,
      "metadata": {
        "colab": {
          "base_uri": "https://localhost:8080/"
        },
        "id": "vZ6hVzwES5Pd",
        "outputId": "c9e62e4f-892c-417c-fceb-443be4c9ce38"
      },
      "outputs": [
        {
          "output_type": "execute_result",
          "data": {
            "text/plain": [
              "0.30443548387096775"
            ]
          },
          "metadata": {},
          "execution_count": 38
        }
      ],
      "source": [
        "sum(da_feminino_fumante==1)/len(da_feminino_fumante)"
      ]
    },
    {
      "cell_type": "code",
      "execution_count": 39,
      "metadata": {
        "colab": {
          "base_uri": "https://localhost:8080/"
        },
        "id": "Gnesk2yrS5Pd",
        "outputId": "ee219b94-f2bb-4b87-ef00-6714c60e7671"
      },
      "outputs": [
        {
          "output_type": "execute_result",
          "data": {
            "text/plain": [
              "1.2459917316304396"
            ]
          },
          "metadata": {},
          "execution_count": 39
        }
      ],
      "source": [
        "(np.std(da_masculino_fumante)**2)/(np.std(da_feminino_fumante)**2)"
      ]
    },
    {
      "cell_type": "code",
      "execution_count": 40,
      "metadata": {
        "colab": {
          "base_uri": "https://localhost:8080/"
        },
        "id": "eGKv3lTHS5Pd",
        "outputId": "dcb33ad2-4723-48bf-db46-8d040cc61928"
      },
      "outputs": [
        {
          "output_type": "execute_result",
          "data": {
            "text/plain": [
              "(np.float64(-13.667880438664463),\n",
              " np.float64(7.117170730872684e-42),\n",
              " np.float64(5733.0))"
            ]
          },
          "metadata": {},
          "execution_count": 40
        }
      ],
      "source": [
        "sm.stats.ttest_ind(da_masculino_fumante, da_feminino_fumante)"
      ]
    },
    {
      "cell_type": "markdown",
      "metadata": {
        "id": "vGrPdCQ9S5Pe"
      },
      "source": [
        "Q1b. Construa três intervalos de confiança de 95%: um para a proporção de mulheres que fumam, um para a proporção de homens que fumam e um para a diferença nas taxas de tabagismo entre mulheres e homens."
      ]
    },
    {
      "cell_type": "code",
      "execution_count": 41,
      "metadata": {
        "colab": {
          "base_uri": "https://localhost:8080/"
        },
        "id": "9Fe7indwS5Pe",
        "outputId": "13ff7246-e019-4d35-cd15-297317b251ea"
      },
      "outputs": [
        {
          "output_type": "execute_result",
          "data": {
            "text/plain": [
              "(0.49349056386167417, 0.5307935970661982)"
            ]
          },
          "metadata": {},
          "execution_count": 41
        }
      ],
      "source": [
        "ci_low, ci_upp = proportion_confint(sum(da_feminino_fumante==1), len(da_feminino_fumante), alpha=0.05, method='normal')\n",
        "ci_low, ci_upp\n",
        "\n",
        "ci_low, ci_upp = proportion_confint(sum(da_masculino_fumante==1), len(da_masculino_fumante), alpha=0.05, method='normal')\n",
        "ci_low, ci_upp"
      ]
    },
    {
      "cell_type": "code",
      "execution_count": 42,
      "metadata": {
        "colab": {
          "base_uri": "https://localhost:8080/"
        },
        "id": "AS8_IN_8S5Pe",
        "outputId": "cb328948-956a-4355-a350-031f1ab514e7"
      },
      "outputs": [
        {
          "output_type": "execute_result",
          "data": {
            "text/plain": [
              "0.30443548387096775"
            ]
          },
          "metadata": {},
          "execution_count": 42
        }
      ],
      "source": [
        "proporcao_fumantes_masculinos=(sum(da_masculino_fumante==1)/len(da_masculino_fumante))\n",
        "proporcao_fumantes_masculinos\n",
        "\n",
        "proporcao_fumantes_femininos=(sum(da_feminino_fumante==1)/len(da_feminino_fumante))\n",
        "proporcao_fumantes_femininos"
      ]
    },
    {
      "cell_type": "code",
      "execution_count": 43,
      "metadata": {
        "colab": {
          "base_uri": "https://localhost:8080/"
        },
        "id": "kw7V9j4uS5Pe",
        "outputId": "59fef87f-fb5a-433c-a98f-53452e695bc5"
      },
      "outputs": [
        {
          "output_type": "execute_result",
          "data": {
            "text/plain": [
              "0.20770659659296842"
            ]
          },
          "metadata": {},
          "execution_count": 43
        }
      ],
      "source": [
        "proporcao_fumantes_genero_diff=proporcao_fumantes_masculinos-proporcao_fumantes_femininos\n",
        "proporcao_fumantes_genero_diff"
      ]
    },
    {
      "cell_type": "code",
      "execution_count": 44,
      "metadata": {
        "colab": {
          "base_uri": "https://localhost:8080/"
        },
        "id": "-wnyFtveS5Pe",
        "outputId": "58490e49-66e6-4b92-f114-f03793a30aac"
      },
      "outputs": [
        {
          "output_type": "execute_result",
          "data": {
            "text/plain": [
              "np.float64(0.012716649609722899)"
            ]
          },
          "metadata": {},
          "execution_count": 44
        }
      ],
      "source": [
        "se_fumantes_genero_masculino=np.sqrt((proporcao_fumantes_masculinos*(1-proporcao_fumantes_masculinos))/len(da_masculino_fumante))\n",
        "se_fumantes_genero_masculino\n",
        "\n",
        "se_fumantes_genero_feminino=np.sqrt((proporcao_fumantes_femininos*(1-proporcao_fumantes_femininos))/len(da_feminino_fumante))\n",
        "se_fumantes_genero_feminino\n",
        "\n",
        "se_proporcao_fumantes_diff=np.sqrt((se_fumantes_genero_masculino**2)+(se_fumantes_genero_feminino**2))\n",
        "se_proporcao_fumantes_diff"
      ]
    },
    {
      "cell_type": "code",
      "execution_count": 45,
      "metadata": {
        "colab": {
          "base_uri": "https://localhost:8080/"
        },
        "id": "8Zwfo4fuS5Pf",
        "outputId": "d143fd61-cc9b-4921-ad88-7b9a0ec1f6ca"
      },
      "outputs": [
        {
          "output_type": "stream",
          "name": "stdout",
          "text": [
            "Limite inferior (Homens - Mulheres):  0.18278196335791153\n",
            "Limite superior (Homens - Mulheres):  0.2326312298280253\n"
          ]
        }
      ],
      "source": [
        "# Impressão dos limites inferior e superior do intervalo de confiança de 95%\n",
        "# para a diferença nas proporções de fumantes entre homens e mulheres\n",
        "print('Limite inferior (Homens - Mulheres): ', proporcao_fumantes_genero_diff - 1.96 * se_proporcao_fumantes_diff)\n",
        "print('Limite superior (Homens - Mulheres): ', proporcao_fumantes_genero_diff + 1.96 * se_proporcao_fumantes_diff)"
      ]
    },
    {
      "cell_type": "markdown",
      "metadata": {
        "id": "-KsKElBGS5Pf"
      },
      "source": [
        "# Questão 2\n",
        "\n",
        "Divida a população em dois grupos com base no fato de a pessoa ter ou não se formado na faculdade, utilizando a variável de escolaridade DMDEDUC2. Em seguida, realize um teste da hipótese nula de que as alturas médias (em centímetros) dos dois grupos são iguais. Depois, converta as alturas de centímetros para polegadas e realize novamente o teste da hipótese nula de que as alturas médias (em polegadas) dos dois grupos são iguais."
      ]
    },
    {
      "cell_type": "code",
      "execution_count": 46,
      "metadata": {
        "id": "LAZFZKP6S5Pf"
      },
      "outputs": [],
      "source": [
        "# Altura (em cm) dos indivíduos graduados (código 5 = faculdade concluída)\n",
        "da_graduado_altura_cm = da[da['DMDEDUC2'] == 5]['BMXHT']\n",
        "da_graduado_altura_cm = da_graduado_altura_cm[~da_graduado_altura_cm.isna()]  # remove valores ausentes\n",
        "da_graduado_altura_cm.reset_index(inplace=True, drop=True)  # reseta o índice\n"
      ]
    },
    {
      "cell_type": "code",
      "execution_count": 47,
      "metadata": {
        "id": "yO5gHfPyS5Pf"
      },
      "outputs": [],
      "source": [
        "# Altura (em cm) dos indivíduos não graduados\n",
        "da_nao_graduado_altura_cm = da[da['DMDEDUC2'] != 5]['BMXHT']\n",
        "da_nao_graduado_altura_cm = da_nao_graduado_altura_cm[~da_nao_graduado_altura_cm.isna()]  # remove valores ausentes\n",
        "da_nao_graduado_altura_cm.reset_index(inplace=True, drop=True)  # reseta o índice"
      ]
    },
    {
      "cell_type": "code",
      "execution_count": 48,
      "metadata": {
        "colab": {
          "base_uri": "https://localhost:8080/"
        },
        "id": "w1Ia1M6HS5Pf",
        "outputId": "1e0e3b82-d8eb-4acf-fbb7-a142e1594d88"
      },
      "outputs": [
        {
          "output_type": "stream",
          "name": "stdout",
          "text": [
            "(np.float64(7.2007656698012505), np.float64(5.987537169067422e-13))\n"
          ]
        }
      ],
      "source": [
        "# Tamanho das amostras\n",
        "len(da_graduado_altura_cm)\n",
        "len(da_nao_graduado_altura_cm)\n",
        "\n",
        "# Médias das alturas\n",
        "da_graduado_altura_cm.mean()\n",
        "da_nao_graduado_altura_cm.mean()\n",
        "\n",
        "# Teste z de diferença entre médias (em cm)\n",
        "print(sm.stats.ztest(da_graduado_altura_cm, da_nao_graduado_altura_cm))"
      ]
    },
    {
      "cell_type": "code",
      "execution_count": 49,
      "metadata": {
        "colab": {
          "base_uri": "https://localhost:8080/"
        },
        "id": "g51O_ZDDS5Pf",
        "outputId": "90069f99-eef3-4a41-b259-0578c76699f3"
      },
      "outputs": [
        {
          "output_type": "stream",
          "name": "stdout",
          "text": [
            "(np.float64(7.200765669801254), np.float64(5.987537169067249e-13))\n"
          ]
        }
      ],
      "source": [
        "# Conversão das alturas para polegadas\n",
        "da_graduado_altura_polegadas = da_graduado_altura_cm / 2.54\n",
        "da_graduado_altura_polegadas = da_graduado_altura_polegadas[~da_graduado_altura_polegadas.isna()]\n",
        "da_graduado_altura_polegadas.reset_index(inplace=True, drop=True)\n",
        "\n",
        "da_nao_graduado_altura_polegadas = da_nao_graduado_altura_cm / 2.54\n",
        "da_nao_graduado_altura_polegadas = da_nao_graduado_altura_polegadas[~da_nao_graduado_altura_polegadas.isna()]\n",
        "da_nao_graduado_altura_polegadas.reset_index(inplace=True, drop=True)\n",
        "\n",
        "# Teste z de diferença entre médias (em polegadas)\n",
        "print(sm.stats.ztest(da_graduado_altura_polegadas, da_nao_graduado_altura_polegadas))"
      ]
    },
    {
      "cell_type": "markdown",
      "metadata": {
        "id": "IIKu6YAgS5Pg"
      },
      "source": [
        "## Questão 3\n",
        "\n",
        "\n",
        "Realize um teste da hipótese nula de que o IMC médio de homens entre 30 e 40 anos é igual ao IMC médio de homens entre 50 e 60 anos. Em seguida, repita esse teste após aplicar a transformação logarítmica nos valores de IMC."
      ]
    },
    {
      "cell_type": "code",
      "execution_count": 50,
      "metadata": {
        "id": "dpcCXGvOS5Pg"
      },
      "outputs": [],
      "source": [
        "da_bmi=da[(da['RIDAGEYR']>=30)&(da['RIDAGEYR']<=40)]\n",
        "\n",
        "da_bmi.reset_index(inplace=True, drop=True)"
      ]
    },
    {
      "cell_type": "code",
      "execution_count": 51,
      "metadata": {
        "id": "QKralRyXS5Pg"
      },
      "outputs": [],
      "source": [
        "bmi_homem = da_bmi[da_bmi['RIAGENDR']==1]['BMXBMI']\n",
        "bmi_homem = bmi_homem[~bmi_homem.isna()]\n",
        "bmi_homem.reset_index(inplace=True, drop=True)"
      ]
    },
    {
      "cell_type": "code",
      "execution_count": 52,
      "metadata": {
        "id": "9rroOWe6S5Pg"
      },
      "outputs": [],
      "source": [
        "bmi_mulher=da_bmi[da_bmi['RIAGENDR']==2]['BMXBMI']\n",
        "bmi_mulher=bmi_mulher[~bmi_mulher.isna()]\n",
        "bmi_mulher.reset_index(inplace=True, drop=True)"
      ]
    },
    {
      "cell_type": "code",
      "execution_count": 53,
      "metadata": {
        "colab": {
          "base_uri": "https://localhost:8080/"
        },
        "id": "Gs4pw7ohS5Pg",
        "outputId": "f67dbd5b-984b-4464-92d8-8e3165d897b5"
      },
      "outputs": [
        {
          "output_type": "execute_result",
          "data": {
            "text/plain": [
              "488"
            ]
          },
          "metadata": {},
          "execution_count": 53
        }
      ],
      "source": [
        "len(bmi_homem)"
      ]
    },
    {
      "cell_type": "code",
      "execution_count": 54,
      "metadata": {
        "colab": {
          "base_uri": "https://localhost:8080/"
        },
        "id": "4vP7DoycS5Pg",
        "outputId": "3b9d8346-a533-46ab-877c-9562b27d15cb"
      },
      "outputs": [
        {
          "output_type": "execute_result",
          "data": {
            "text/plain": [
              "525"
            ]
          },
          "metadata": {},
          "execution_count": 54
        }
      ],
      "source": [
        "len(bmi_mulher)"
      ]
    },
    {
      "cell_type": "code",
      "execution_count": 55,
      "metadata": {
        "colab": {
          "base_uri": "https://localhost:8080/"
        },
        "id": "7FUoFp1DS5Ph",
        "outputId": "e2857644-17a4-4050-ced7-e2692b7a9089"
      },
      "outputs": [
        {
          "output_type": "stream",
          "name": "stdout",
          "text": [
            "(np.float64(-1.109324496826031), np.float64(0.26729022096402777))\n"
          ]
        }
      ],
      "source": [
        "print(sm.stats.ztest(bmi_homem, bmi_mulher))"
      ]
    },
    {
      "cell_type": "code",
      "execution_count": 56,
      "metadata": {
        "id": "HdbPzXYGS5Ph"
      },
      "outputs": [],
      "source": [
        "bmi_homem_log=np.log(bmi_homem)"
      ]
    },
    {
      "cell_type": "code",
      "execution_count": 57,
      "metadata": {
        "id": "ojGkS4TmS5Ph"
      },
      "outputs": [],
      "source": [
        "bmi_mulher_log=np.log(bmi_mulher)"
      ]
    },
    {
      "cell_type": "code",
      "execution_count": 58,
      "metadata": {
        "colab": {
          "base_uri": "https://localhost:8080/"
        },
        "id": "QF7o7UnyS5Ph",
        "outputId": "492978fe-2dae-43b6-a87e-03bca879235e"
      },
      "outputs": [
        {
          "output_type": "stream",
          "name": "stdout",
          "text": [
            "(np.float64(-0.4737991644730396), np.float64(0.6356431304660779))\n"
          ]
        }
      ],
      "source": [
        "print(sm.stats.ztest(bmi_homem_log, bmi_mulher_log))"
      ]
    },
    {
      "cell_type": "markdown",
      "metadata": {
        "id": "J1JTqc6FS5Ph"
      },
      "source": [
        "# Questão 4\n",
        "\n",
        "Suponha que desejamos comparar o IMC médio entre mulheres que se formaram na faculdade e aquelas que não se formaram, focando na faixa etária de 30 a 40 anos. Primeiro, analise a variância do IMC dentro de cada uma dessas subpopulações utilizando técnicas gráficas e os valores estimados de variância de cada grupo. Em seguida, calcule as estimativas (pooled e não-pooled) do erro padrão da diferença entre os IMCs médios nas duas populações comparadas. Por fim, teste a hipótese nula de que as duas médias populacionais são iguais, utilizando cada uma das duas estimativas de erro padrão."
      ]
    },
    {
      "cell_type": "code",
      "execution_count": 59,
      "metadata": {
        "id": "WSZVHtGJS5Ph"
      },
      "outputs": [],
      "source": [
        "# Filtra apenas os dados de mulheres\n",
        "imc_mulheres = da_bmi[da_bmi['RIAGENDR'] == 2]\n",
        "imc_mulheres.reset_index(inplace=True, drop=True)\n"
      ]
    },
    {
      "cell_type": "code",
      "execution_count": 60,
      "metadata": {
        "id": "f5ulLDNBS5Pi"
      },
      "outputs": [],
      "source": [
        "# Filtra IMC de mulheres graduadas (nível de instrução 5)\n",
        "imc_mulheres_graduadas = imc_mulheres[imc_mulheres['DMDEDUC2'] == 5]['BMXBMI']\n",
        "imc_mulheres_graduadas = imc_mulheres_graduadas[~imc_mulheres_graduadas.isna()]  # remove valores ausentes\n",
        "imc_mulheres_graduadas.reset_index(inplace=True, drop=True)\n"
      ]
    },
    {
      "cell_type": "code",
      "execution_count": 61,
      "metadata": {
        "id": "_d3E6uY-S5Pi"
      },
      "outputs": [],
      "source": [
        "# Filtra IMC de mulheres não graduadas (níveis 1 a 4)\n",
        "imc_mulheres_nao_graduadas = imc_mulheres[imc_mulheres['DMDEDUC2'].isin([1, 2, 3, 4])]['BMXBMI']\n",
        "imc_mulheres_nao_graduadas = imc_mulheres_nao_graduadas[~imc_mulheres_nao_graduadas.isna()]\n",
        "imc_mulheres_nao_graduadas.reset_index(inplace=True, drop=True)"
      ]
    },
    {
      "cell_type": "code",
      "execution_count": 62,
      "metadata": {
        "colab": {
          "base_uri": "https://localhost:8080/",
          "height": 334
        },
        "id": "c0vlRGHUS5Pi",
        "outputId": "cf31ee37-7af9-42a9-992c-da0c50b37feb"
      },
      "outputs": [
        {
          "output_type": "execute_result",
          "data": {
            "text/plain": [
              "count    171.000000\n",
              "mean      27.808187\n",
              "std        7.358264\n",
              "min       17.100000\n",
              "25%       22.750000\n",
              "50%       26.300000\n",
              "75%       31.150000\n",
              "max       62.700000\n",
              "Name: BMXBMI, dtype: float64"
            ],
            "text/html": [
              "<div>\n",
              "<style scoped>\n",
              "    .dataframe tbody tr th:only-of-type {\n",
              "        vertical-align: middle;\n",
              "    }\n",
              "\n",
              "    .dataframe tbody tr th {\n",
              "        vertical-align: top;\n",
              "    }\n",
              "\n",
              "    .dataframe thead th {\n",
              "        text-align: right;\n",
              "    }\n",
              "</style>\n",
              "<table border=\"1\" class=\"dataframe\">\n",
              "  <thead>\n",
              "    <tr style=\"text-align: right;\">\n",
              "      <th></th>\n",
              "      <th>BMXBMI</th>\n",
              "    </tr>\n",
              "  </thead>\n",
              "  <tbody>\n",
              "    <tr>\n",
              "      <th>count</th>\n",
              "      <td>171.000000</td>\n",
              "    </tr>\n",
              "    <tr>\n",
              "      <th>mean</th>\n",
              "      <td>27.808187</td>\n",
              "    </tr>\n",
              "    <tr>\n",
              "      <th>std</th>\n",
              "      <td>7.358264</td>\n",
              "    </tr>\n",
              "    <tr>\n",
              "      <th>min</th>\n",
              "      <td>17.100000</td>\n",
              "    </tr>\n",
              "    <tr>\n",
              "      <th>25%</th>\n",
              "      <td>22.750000</td>\n",
              "    </tr>\n",
              "    <tr>\n",
              "      <th>50%</th>\n",
              "      <td>26.300000</td>\n",
              "    </tr>\n",
              "    <tr>\n",
              "      <th>75%</th>\n",
              "      <td>31.150000</td>\n",
              "    </tr>\n",
              "    <tr>\n",
              "      <th>max</th>\n",
              "      <td>62.700000</td>\n",
              "    </tr>\n",
              "  </tbody>\n",
              "</table>\n",
              "</div><br><label><b>dtype:</b> float64</label>"
            ]
          },
          "metadata": {},
          "execution_count": 62
        }
      ],
      "source": [
        "imc_mulheres_graduadas.describe()"
      ]
    },
    {
      "cell_type": "code",
      "execution_count": 63,
      "metadata": {
        "colab": {
          "base_uri": "https://localhost:8080/",
          "height": 334
        },
        "id": "bZwLft6rS5Pi",
        "outputId": "c27b0cf7-dea5-47c0-bdd0-df7576df8034"
      },
      "outputs": [
        {
          "output_type": "execute_result",
          "data": {
            "text/plain": [
              "count    354.000000\n",
              "mean      31.257345\n",
              "std        8.256083\n",
              "min       16.600000\n",
              "25%       25.300000\n",
              "50%       29.500000\n",
              "75%       35.875000\n",
              "max       60.900000\n",
              "Name: BMXBMI, dtype: float64"
            ],
            "text/html": [
              "<div>\n",
              "<style scoped>\n",
              "    .dataframe tbody tr th:only-of-type {\n",
              "        vertical-align: middle;\n",
              "    }\n",
              "\n",
              "    .dataframe tbody tr th {\n",
              "        vertical-align: top;\n",
              "    }\n",
              "\n",
              "    .dataframe thead th {\n",
              "        text-align: right;\n",
              "    }\n",
              "</style>\n",
              "<table border=\"1\" class=\"dataframe\">\n",
              "  <thead>\n",
              "    <tr style=\"text-align: right;\">\n",
              "      <th></th>\n",
              "      <th>BMXBMI</th>\n",
              "    </tr>\n",
              "  </thead>\n",
              "  <tbody>\n",
              "    <tr>\n",
              "      <th>count</th>\n",
              "      <td>354.000000</td>\n",
              "    </tr>\n",
              "    <tr>\n",
              "      <th>mean</th>\n",
              "      <td>31.257345</td>\n",
              "    </tr>\n",
              "    <tr>\n",
              "      <th>std</th>\n",
              "      <td>8.256083</td>\n",
              "    </tr>\n",
              "    <tr>\n",
              "      <th>min</th>\n",
              "      <td>16.600000</td>\n",
              "    </tr>\n",
              "    <tr>\n",
              "      <th>25%</th>\n",
              "      <td>25.300000</td>\n",
              "    </tr>\n",
              "    <tr>\n",
              "      <th>50%</th>\n",
              "      <td>29.500000</td>\n",
              "    </tr>\n",
              "    <tr>\n",
              "      <th>75%</th>\n",
              "      <td>35.875000</td>\n",
              "    </tr>\n",
              "    <tr>\n",
              "      <th>max</th>\n",
              "      <td>60.900000</td>\n",
              "    </tr>\n",
              "  </tbody>\n",
              "</table>\n",
              "</div><br><label><b>dtype:</b> float64</label>"
            ]
          },
          "metadata": {},
          "execution_count": 63
        }
      ],
      "source": [
        "imc_mulheres_nao_graduadas.describe()"
      ]
    },
    {
      "cell_type": "code",
      "execution_count": 64,
      "metadata": {
        "colab": {
          "base_uri": "https://localhost:8080/",
          "height": 428
        },
        "id": "f7h1Z_PIS5Pt",
        "outputId": "3548b7bb-e980-4718-d1bd-da59ce20bdd2"
      },
      "outputs": [
        {
          "output_type": "execute_result",
          "data": {
            "text/plain": [
              "<Axes: ylabel='BMXBMI'>"
            ]
          },
          "metadata": {},
          "execution_count": 64
        },
        {
          "output_type": "display_data",
          "data": {
            "text/plain": [
              "<Figure size 640x480 with 1 Axes>"
            ],
            "image/png": "[encoded data removed]"
          },
          "metadata": {}
        }
      ],
      "source": [
        "sns.boxplot(imc_mulheres_graduadas)"
      ]
    },
    {
      "cell_type": "code",
      "execution_count": 65,
      "metadata": {
        "colab": {
          "base_uri": "https://localhost:8080/",
          "height": 428
        },
        "id": "NlMLTr_OS5Pt",
        "outputId": "6f688889-33e5-4509-b080-f498ec8d503c"
      },
      "outputs": [
        {
          "output_type": "execute_result",
          "data": {
            "text/plain": [
              "<Axes: ylabel='BMXBMI'>"
            ]
          },
          "metadata": {},
          "execution_count": 65
        },
        {
          "output_type": "display_data",
          "data": {
            "text/plain": [
              "<Figure size 640x480 with 1 Axes>"
            ],
            "image/png": "[encoded data removed]"
          },
          "metadata": {}
        }
      ],
      "source": [
        "sns.boxplot(imc_mulheres_nao_graduadas)"
      ]
    },
    {
      "cell_type": "code",
      "execution_count": 66,
      "metadata": {
        "colab": {
          "base_uri": "https://localhost:8080/"
        },
        "id": "YZMuOJXZS5Pt",
        "outputId": "7d527a66-1d93-459a-f5ba-55267d81c2bf"
      },
      "outputs": [
        {
          "output_type": "execute_result",
          "data": {
            "text/plain": [
              "0.791924918261364"
            ]
          },
          "metadata": {},
          "execution_count": 66
        }
      ],
      "source": [
        "#Razão entre as variancias\n",
        "(np.std(imc_mulheres_graduadas)**2)/(np.std(imc_mulheres_nao_graduadas)**2)"
      ]
    },
    {
      "cell_type": "code",
      "execution_count": 67,
      "metadata": {
        "colab": {
          "base_uri": "https://localhost:8080/"
        },
        "id": "fsfHmxLdS5Pu",
        "outputId": "f17fefea-69ba-4871-f852-7f6426cc3629"
      },
      "outputs": [
        {
          "output_type": "stream",
          "name": "stdout",
          "text": [
            "variancia_pooled:  (np.float64(-4.643908450956424), np.float64(3.4187910067116893e-06))\n",
            "variancia_diferente: (np.float64(-4.833662355599101), np.float64(1.340438616920389e-06))\n"
          ]
        }
      ],
      "source": [
        "# Cria objetos estatísticos descritivos para IMC de mulheres graduadas e não graduadas\n",
        "imc_mulheres_graduadas = sm.stats.DescrStatsW(imc_mulheres_graduadas)\n",
        "imc_mulheres_nao_graduadas = sm.stats.DescrStatsW(imc_mulheres_nao_graduadas)\n",
        "\n",
        "# Teste z de diferença entre médias assumindo variâncias iguais (pooled)\n",
        "print(\"variancia_pooled: \", sm.stats.CompareMeans(imc_mulheres_graduadas, imc_mulheres_nao_graduadas).ztest_ind(usevar='pooled'))\n",
        "\n",
        "# Teste z de diferença entre médias assumindo variâncias diferentes (unequal)\n",
        "print(\"variancia_diferente:\", sm.stats.CompareMeans(imc_mulheres_graduadas, imc_mulheres_nao_graduadas).ztest_ind(usevar='unequal'))"
      ]
    },
    {
      "cell_type": "markdown",
      "metadata": {
        "id": "yMI4G1U5S5Pu"
      },
      "source": [
        "# Questão 5\n",
        "\n",
        "Realize um teste da hipótese nula de que a primeira e a segunda medições da pressão arterial diastólica de um mesmo indivíduo possuem o mesmo valor médio."
      ]
    },
    {
      "cell_type": "code",
      "execution_count": 68,
      "metadata": {
        "colab": {
          "base_uri": "https://localhost:8080/"
        },
        "id": "A8HN9QKHS5Pu",
        "outputId": "034b015b-6dfb-4b5f-90fb-8e7e1a633c00"
      },
      "outputs": [
        {
          "output_type": "stream",
          "name": "stdout",
          "text": [
            "0.3490407897187558\n"
          ]
        },
        {
          "output_type": "execute_result",
          "data": {
            "text/plain": [
              "(np.float64(4.140387087476751), np.float64(3.467202439743513e-05))"
            ]
          },
          "metadata": {},
          "execution_count": 68
        }
      ],
      "source": [
        "dx = da[[\"BPXDI1\", \"BPXDI2\"]].dropna()\n",
        "db = dx.BPXDI1 - dx.BPXDI2\n",
        "print(db.mean())\n",
        "sm.stats.ztest(db)"
      ]
    },
    {
      "cell_type": "markdown",
      "metadata": {
        "id": "S_0lhJjWS5Pu"
      },
      "source": [
        "Q5b. Suponha que a primeira e a segunda medições da pressão arterial diastólica foram feitas em pessoas diferentes. Modifique a análise acima de forma apropriada para esse cenário."
      ]
    },
    {
      "cell_type": "code",
      "execution_count": 69,
      "metadata": {
        "id": "J5S-l1T0S5Pu"
      },
      "outputs": [],
      "source": [
        "BPXDI1=da[~da['BPXDI1'].isna()]['BPXDI1']\n",
        "BPXDI1.reset_index(inplace=True, drop=True)\n",
        "BPXDI2=da[~da['BPXDI2'].isna()]['BPXDI2']\n",
        "BPXDI2.reset_index(inplace=True, drop=True)"
      ]
    },
    {
      "cell_type": "code",
      "execution_count": 70,
      "metadata": {
        "colab": {
          "base_uri": "https://localhost:8080/"
        },
        "id": "Kh724uVPS5Pu",
        "outputId": "50a7a723-99da-443a-9196-a45e6ac23ff9"
      },
      "outputs": [
        {
          "output_type": "stream",
          "name": "stdout",
          "text": [
            "(np.float64(0.6848982193746493), np.float64(0.49340814971248503))\n"
          ]
        }
      ],
      "source": [
        "BPXDI1 = sm.stats.DescrStatsW(BPXDI1)\n",
        "BPXDI2 = sm.stats.DescrStatsW(BPXDI2)\n",
        "print(sm.stats.CompareMeans(BPXDI1, BPXDI2).ztest_ind(usevar='pooled'))"
      ]
    },
    {
      "cell_type": "markdown",
      "metadata": {
        "id": "MtQxxGwjS5Pv"
      },
      "source": [
        "### FIM"
      ]
    }
  ],
  "metadata": {
    "kernelspec": {
      "display_name": "Python 3 (ipykernel)",
      "language": "python",
      "name": "python3"
    },
    "language_info": {
      "codemirror_mode": {
        "name": "ipython",
        "version": 3
      },
      "file_extension": ".py",
      "mimetype": "text/x-python",
      "name": "python",
      "nbconvert_exporter": "python",
      "pygments_lexer": "ipython3",
      "version": "3.8.18"
    },
    "colab": {
      "provenance": [],
      "include_colab_link": true
    }
  },
  "nbformat": 4,
  "nbformat_minor": 0
}