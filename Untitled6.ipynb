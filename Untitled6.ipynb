{
  "nbformat": 4,
  "nbformat_minor": 0,
  "metadata": {
    "colab": {
      "provenance": [],
      "authorship_tag": "ABX9TyOs6OuIIhXriRgRcJTgFnPX",
      "include_colab_link": true
    },
    "kernelspec": {
      "name": "python3",
      "display_name": "Python 3"
    },
    "language_info": {
      "name": "python"
    }
  },
  "cells": [
    {
      "cell_type": "markdown",
      "metadata": {
        "id": "view-in-github",
        "colab_type": "text"
      },
      "source": [
        "<a href=\"https://colab.research.google.com/github/manomec/portifolio/blob/main/Untitled6.ipynb\" target=\"_parent\"><img src=\"https://colab.research.google.com/assets/colab-badge.svg\" alt=\"Open In Colab\"/></a>"
      ]
    },
    {
      "cell_type": "code",
      "source": [
        "import pandas as pd\n",
        "import numpy as np\n",
        "import matplotlib.pyplot as plt\n",
        "import seaborn as sns\n"
      ],
      "metadata": {
        "id": "rvDRqqeIXjCs"
      },
      "execution_count": 19,
      "outputs": []
    },
    {
      "cell_type": "code",
      "source": [
        "cadastro = pd.read_csv('cadastro.csv',sep=';')\n",
        "vendas = pd.read_csv('vendas.csv',sep=';')\n",
        "print(cadastro.head())\n",
        "print(vendas.head())\n",
        "\n"
      ],
      "metadata": {
        "colab": {
          "base_uri": "https://localhost:8080/"
        },
        "id": "-Ecl1c3eZMOB",
        "outputId": "9aa76d23-4b02-47cf-911b-98a1697674d7"
      },
      "execution_count": 20,
      "outputs": [
        {
          "output_type": "stream",
          "name": "stdout",
          "text": [
            "   cod_cadastro estado_civil        grau_instrucao  num_filhos  salario  \\\n",
            "0             1     solteiro  1-ensino fundamental         NaN     4.00   \n",
            "1             2       casado  1-ensino fundamental         1.0     4.56   \n",
            "2             3       casado  1-ensino fundamental         2.0     5.25   \n",
            "3             4     solteiro        2-ensino medio         NaN     5.73   \n",
            "4             5     solteiro  1-ensino fundamental         NaN     6.26   \n",
            "\n",
            "   idade_anos reg_procedencia  \n",
            "0          26        interior  \n",
            "1          32         capital  \n",
            "2          36         capital  \n",
            "3          20           outra  \n",
            "4          40           outra  \n",
            "   cod_venda  cod_cadastro       produto  valor\n",
            "0          1             1  Refrigerante    6.5\n",
            "1          2             2     Chocolate    4.0\n",
            "2          3             3          Suco    5.0\n",
            "3          4             4       Bolacha    3.5\n",
            "4          5             5        Cereal   11.9\n"
          ]
        }
      ]
    },
    {
      "cell_type": "code",
      "source": [
        "print (\"quem gastou mais e quem gastou menos?\")"
      ],
      "metadata": {
        "colab": {
          "base_uri": "https://localhost:8080/"
        },
        "id": "43uMQOfyaCYz",
        "outputId": "933b3091-d224-4664-cbf3-03c5310e01ea"
      },
      "execution_count": 21,
      "outputs": [
        {
          "output_type": "stream",
          "name": "stdout",
          "text": [
            "quem gastou mais e quem gastou menos?\n"
          ]
        }
      ]
    },
    {
      "cell_type": "code",
      "source": [
        "gastos = vendas.groupby('cod_cadastro')['valor'].sum()\n",
        "print (\"quem mais gastou:\",gastos.idxmax(),\"-> R$\", gastos.max())\n",
        "print (\"quem menos gastou:\",gastos.idxmin(),\"-> R$\", gastos.min())"
      ],
      "metadata": {
        "colab": {
          "base_uri": "https://localhost:8080/"
        },
        "id": "8oWIDkt_aSVL",
        "outputId": "d78c64ec-aebf-42e5-b121-2f2d5ddf6333"
      },
      "execution_count": 22,
      "outputs": [
        {
          "output_type": "stream",
          "name": "stdout",
          "text": [
            "quem mais gastou: 27 -> R$ 47.800000000000004\n",
            "quem menos gastou: 16 -> R$ 2.8\n"
          ]
        }
      ]
    },
    {
      "cell_type": "code",
      "source": [
        "print(\"qual região mais gastou?\")"
      ],
      "metadata": {
        "colab": {
          "base_uri": "https://localhost:8080/"
        },
        "id": "vvB0kqOyb487",
        "outputId": "83ecc7fc-f6c7-4cf5-9ffa-32f8d8c1e929"
      },
      "execution_count": 23,
      "outputs": [
        {
          "output_type": "stream",
          "name": "stdout",
          "text": [
            "qual região mais gastou?\n"
          ]
        }
      ]
    },
    {
      "cell_type": "code",
      "source": [
        "vendas_completo = vendas.merge(cadastro, on='cod_cadastro')\n",
        "print (vendas_completo.groupby('reg_procedencia')['valor'].sum())\n"
      ],
      "metadata": {
        "colab": {
          "base_uri": "https://localhost:8080/"
        },
        "id": "gLuUOFD6aQ6f",
        "outputId": "d1a4f309-f3cf-46c3-d371-cd98a1ad131d"
      },
      "execution_count": 24,
      "outputs": [
        {
          "output_type": "stream",
          "name": "stdout",
          "text": [
            "reg_procedencia\n",
            "capital     165.90\n",
            "interior    189.93\n",
            "outra       166.67\n",
            "Name: valor, dtype: float64\n"
          ]
        }
      ]
    },
    {
      "cell_type": "code",
      "source": [
        "print (\"qual produto mais vendido?\")\n"
      ],
      "metadata": {
        "colab": {
          "base_uri": "https://localhost:8080/"
        },
        "id": "DAAsxalXeS9J",
        "outputId": "0c75ab84-8dda-4832-c684-fa32309eb513"
      },
      "execution_count": 25,
      "outputs": [
        {
          "output_type": "stream",
          "name": "stdout",
          "text": [
            "qual produto mais vendido?\n"
          ]
        }
      ]
    },
    {
      "cell_type": "code",
      "source": [
        "print(vendas['produto'].value_counts())"
      ],
      "metadata": {
        "colab": {
          "base_uri": "https://localhost:8080/"
        },
        "id": "EuF3Vi0gec8t",
        "outputId": "318d776a-1e76-4efb-c543-efae61ebcd8d"
      },
      "execution_count": 26,
      "outputs": [
        {
          "output_type": "stream",
          "name": "stdout",
          "text": [
            "produto\n",
            "Chocolate       7\n",
            "Refrigerante    6\n",
            "Suco            6\n",
            "Bolacha         5\n",
            "Laranja         4\n",
            "Pó de café      4\n",
            "Arroz           4\n",
            "Sabão em pó     4\n",
            "Farinha         4\n",
            "Feijão          4\n",
            "Óleo            2\n",
            "Batata          2\n",
            "Queijo          2\n",
            "Leite           2\n",
            "Cenoura         2\n",
            "Macarrão        2\n",
            "Cereal          1\n",
            "Iogurte         1\n",
            "Name: count, dtype: int64\n"
          ]
        }
      ]
    },
    {
      "cell_type": "code",
      "source": [
        "print (\"perfil dos top 5 clientes\")"
      ],
      "metadata": {
        "colab": {
          "base_uri": "https://localhost:8080/"
        },
        "id": "rNZzWOV-exP4",
        "outputId": "c70ff8eb-cce9-463f-c1e4-f9dccfc3c6b3"
      },
      "execution_count": 27,
      "outputs": [
        {
          "output_type": "stream",
          "name": "stdout",
          "text": [
            "perfil dos top 5 clientes\n"
          ]
        }
      ]
    },
    {
      "cell_type": "code",
      "source": [
        "top_quant = vendas['cod_cadastro'].value_counts().head(5).index\n",
        "top_valor = gastos.sort_values(ascending=False).head(5).index\n",
        "\n",
        "print (\"top 5 quantidade de vendas:\")\n",
        "print (cadastro[cadastro['cod_cadastro'].isin(top_quant)])\n",
        "\n",
        "print (\"top 5 valor de vendas:\")\n",
        "print (cadastro[cadastro['cod_cadastro'].isin(top_valor)])"
      ],
      "metadata": {
        "colab": {
          "base_uri": "https://localhost:8080/"
        },
        "id": "iC9TVe_Qfoo2",
        "outputId": "488d5f7f-e0f1-4c78-d0b0-9e0cf598b9ce"
      },
      "execution_count": 28,
      "outputs": [
        {
          "output_type": "stream",
          "name": "stdout",
          "text": [
            "top 5 quantidade de vendas:\n",
            "    cod_cadastro estado_civil  grau_instrucao  num_filhos  salario  \\\n",
            "24            25       casado  2-ensino medio         2.0    13.23   \n",
            "28            29       casado  2-ensino medio         5.0    14.71   \n",
            "29            30       casado  2-ensino medio         2.0    15.99   \n",
            "30            31     solteiro      3-superior         NaN    16.22   \n",
            "35            36       casado      3-superior         3.0    23.30   \n",
            "\n",
            "    idade_anos reg_procedencia  \n",
            "24          32        interior  \n",
            "28          40        interior  \n",
            "29          35         capital  \n",
            "30          31           outra  \n",
            "35          42        interior  \n",
            "top 5 valor de vendas:\n",
            "    cod_cadastro estado_civil        grau_instrucao  num_filhos  salario  \\\n",
            "6              7     solteiro  1-ensino fundamental         NaN     6.86   \n",
            "26            27     solteiro  1-ensino fundamental         NaN    13.85   \n",
            "28            29       casado        2-ensino medio         5.0    14.71   \n",
            "33            34     solteiro            3-superior         NaN    18.75   \n",
            "34            35       casado        2-ensino medio         2.0    19.40   \n",
            "\n",
            "    idade_anos reg_procedencia  \n",
            "6           41        interior  \n",
            "26          46           outra  \n",
            "28          40        interior  \n",
            "33          33         capital  \n",
            "34          48         capital  \n"
          ]
        }
      ]
    },
    {
      "cell_type": "code",
      "source": [
        "print (\"grau de instrução x numeros de filhos\")\n"
      ],
      "metadata": {
        "id": "qBWqPiMiiA2B",
        "colab": {
          "base_uri": "https://localhost:8080/"
        },
        "outputId": "b617bee5-2103-4633-c94a-8283e9978c00"
      },
      "execution_count": 33,
      "outputs": [
        {
          "output_type": "stream",
          "name": "stdout",
          "text": [
            "grau de instrução x numeros de filhos\n"
          ]
        }
      ]
    },
    {
      "cell_type": "markdown",
      "source": [],
      "metadata": {
        "id": "mEbCsPDWXOfk"
      }
    },
    {
      "cell_type": "code",
      "source": [
        "media_filhos = cadastro.groupby('grau_instrucao')['num_filhos'].mean()\n",
        "print(media_filhos)\n",
        "\n"
      ],
      "metadata": {
        "colab": {
          "base_uri": "https://localhost:8080/"
        },
        "id": "sL0QGjOof9cC",
        "outputId": "406d7a6c-1efd-4063-cd62-5e6b5714180e"
      },
      "execution_count": 37,
      "outputs": [
        {
          "output_type": "stream",
          "name": "stdout",
          "text": [
            "grau_instrucao\n",
            "1-ensino fundamental    1.600000\n",
            "2-ensino medio          1.583333\n",
            "3-superior              2.000000\n",
            "Name: num_filhos, dtype: float64\n"
          ]
        }
      ]
    },
    {
      "cell_type": "code",
      "source": [
        "# Calcular os tercis (divisões para ouro, prata, diamante)\n",
        "q33 = gastos.quantile(0.33)\n",
        "q66 = gastos.quantile(0.66)\n",
        "\n",
        "# Função de classificação\n",
        "def classificar(valor):\n",
        "    if valor > q66:\n",
        "        return \"DIAMANTE\"\n",
        "    elif valor > q33:\n",
        "        return \"OURO\"\n",
        "    else:\n",
        "        return \"PRATA\"\n",
        "\n",
        "# Criar coluna com gasto total\n",
        "cadastro['gasto_total'] = cadastro['cod_cadastro'].map(gastos)\n",
        "\n",
        "# Classificar clientes com base no gasto total\n",
        "cadastro['Categoria'] = cadastro['gasto_total'].apply(classificar)\n",
        "\n",
        "# Exibir resultado\n",
        "print(cadastro[['cod_cadastro', 'gasto_total', 'Categoria']])\n"
      ],
      "metadata": {
        "colab": {
          "base_uri": "https://localhost:8080/"
        },
        "id": "OShOKjmMgMAC",
        "outputId": "90f74be6-b659-4d15-9212-47e3bbda7951"
      },
      "execution_count": 44,
      "outputs": [
        {
          "output_type": "stream",
          "name": "stdout",
          "text": [
            "    cod_cadastro  gasto_total Categoria\n",
            "0              1         6.50      OURO\n",
            "1              2         4.00     PRATA\n",
            "2              3         5.00     PRATA\n",
            "3              4         3.50     PRATA\n",
            "4              5        11.90      OURO\n",
            "5              6        15.00      OURO\n",
            "6              7        35.50  DIAMANTE\n",
            "7              8        21.80  DIAMANTE\n",
            "8              9         4.50     PRATA\n",
            "9             10        17.00  DIAMANTE\n",
            "10            11         8.75      OURO\n",
            "11            12         4.50     PRATA\n",
            "12            13         4.20     PRATA\n",
            "13            14         5.99     PRATA\n",
            "14            15         3.50     PRATA\n",
            "15            16         2.80     PRATA\n",
            "16            17         7.50      OURO\n",
            "17            18         8.98      OURO\n",
            "18            19         6.50      OURO\n",
            "19            20         4.00     PRATA\n",
            "20            21         5.00     PRATA\n",
            "21            22         3.50     PRATA\n",
            "22            23         6.50      OURO\n",
            "23            24        25.00  DIAMANTE\n",
            "24            25        18.75  DIAMANTE\n",
            "25            26        11.50      OURO\n",
            "26            27        47.80  DIAMANTE\n",
            "27            28        14.99      OURO\n",
            "28            29        37.50  DIAMANTE\n",
            "29            30        20.30  DIAMANTE\n",
            "30            31        16.50      OURO\n",
            "31            32        26.94  DIAMANTE\n",
            "32            33        19.50  DIAMANTE\n",
            "33            34        43.50  DIAMANTE\n",
            "34            35        31.80  DIAMANTE\n",
            "35            36        12.00      OURO\n"
          ]
        }
      ]
    },
    {
      "cell_type": "code",
      "source": [
        "import matplotlib.pyplot as plt\n"
      ],
      "metadata": {
        "id": "z3ISkiz-j4Nu"
      },
      "execution_count": 45,
      "outputs": []
    },
    {
      "cell_type": "code",
      "source": [
        "import matplotlib.pyplot as plt\n",
        "\n",
        "# Contagem dos produtos mais vendidos\n",
        "vendas['produto'].value_counts().plot(kind='bar')\n",
        "\n",
        "plt.title('Produtos mais vendidos')\n",
        "plt.xlabel('Produto')\n",
        "plt.ylabel('Quantidade')\n",
        "plt.xticks(rotation=45)\n",
        "plt.tight_layout()\n",
        "plt.show()\n"
      ],
      "metadata": {
        "colab": {
          "base_uri": "https://localhost:8080/",
          "height": 487
        },
        "id": "nv83bPxakIoR",
        "outputId": "3fa1e923-3d0c-4b32-cf96-35da8c09481f"
      },
      "execution_count": 47,
      "outputs": [
        {
          "output_type": "display_data",
          "data": {
            "text/plain": [
              "<Figure size 640x480 with 1 Axes>"
            ],
            "image/png": "[encoded data removed]"
          },
          "metadata": {}
        }
      ]
    }
  ]
}